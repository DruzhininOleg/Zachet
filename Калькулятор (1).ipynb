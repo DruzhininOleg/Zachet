{
 "cells": [
  {
   "cell_type": "code",
   "execution_count": 2,
   "id": "a7a60ece-d6cf-462b-9bb7-fc073b478462",
   "metadata": {},
   "outputs": [
    {
     "name": "stdin",
     "output_type": "stream",
     "text": [
      " пять умножить семь плюс два разделить два умножить пять\n"
     ]
    },
    {
     "name": "stdout",
     "output_type": "stream",
     "text": [
      "Ответ. 40, 0\n"
     ]
    }
   ],
   "source": [
    "#3)\tРеализовать текстовый калькулятор для выражения из произвольного количества операций с учетом приоритета операций. Пример: calc(\"пять плюс два умножить на три минус один\") -> \n",
    "#\"десять\". Сложность 3\n",
    "#5)\tДобавить возможность использования отрицательных чисел. Пример: calc(\"пять минус минус один\") -> \"шесть\". Сложность 1\n",
    "#Добавил работу с десятичными числами\n",
    "\n",
    "symbols = {\n",
    "        \"плюс\": \"+\",\"минус\": \"-\",\"умножить\": \"*\",\"разделить\": \"/\",\"делить\": \"/\",\"корень\": \"**0.5\",\"скобка\": \"|\",\"запятая\": \".\"\n",
    "        }\n",
    " \n",
    "numbers = {\"один\": \"1\",\"одна\": \"1\",\"два\": \"2\",\"две\": \"2\",\"три\": \"3\",\"четыре\": \"4\",\"пять\": \"5\",\"шесть\": \"6\",\"семь\": \"7\",\"восемь\": \"8\",\"девять\": \"9\",\n",
    "        \n",
    "        \"десять\": \"10\",\"одиннадцать\": \"11\",\"двенадцать\": \"12\",\"тринадцать\": \"13\",\"четырнадцать\": \"14\",\"пятнадцать\": \"15\",\"шестнадцать\": \"16\",\"семнадцать\": \"17\",\"восемнадцать\": \"18\",\"девятнадцать\": \"19\",\n",
    "        \n",
    "        \"двадцать\": \"20\",\"тридцать\": \"30\",\"сорок\": \"40\",\"пятьдесят\": \"50\",\"шестьдесят\": \"60\",\"семьдесят\": \"70\",\"восемьдесят\": \"80\",\"девяносто\": \"90\",\n",
    "        \n",
    "        \"сто\": \"100\",\"двести\": \"200\",\"триста\": \"300\",\"четыреста\": \"400\",\"пятьсот\": \"500\",\"шестьсот\": \"600\",\"семьсот\": \"700\",\"восемьсот\": \"800\",\"девятьсот\": \"900\",\n",
    "        \n",
    "        \"тысяча\": \"1000\",\"тысячи\": \"1000\",\"тысяч\": \"1000\",\"миллион\": \"1000000\",\"миллионов\": \"1000000\",\"миллиард\": \"1000000000\",\"миллиардов\": \"1000000000\",\"миллиарда\": \"1000000000\"\n",
    "        }\n",
    " \n",
    "def solve(text):\n",
    "    a = text_to_numbers(text)\n",
    "    answer = \"Ответ. \" + str(round(eval(a), 4)).replace(\".\", \"з \")\n",
    "    return answer\n",
    " \n",
    "def text_to_numbers(text):\n",
    "    new_text = []\n",
    "    for i in text:\n",
    "        if i in symbols.keys():\n",
    "            new_text.append(symbols[i])\n",
    "        elif i in numbers.keys():\n",
    "            new_text.append(numbers[i])\n",
    "    \n",
    "    new_text = numbers_from_pieces(new_text)\n",
    "    \n",
    "    while \"None\" in new_text:\n",
    "        new_text.remove(\"None\")\n",
    "         \n",
    "    return list_of_numbers_to_string(new_text)\n",
    " \n",
    "def list_of_numbers_to_string(ls):\n",
    "    string = \"\"\n",
    "    brackets = \"(\"\n",
    "    for i in ls:\n",
    "        if i == \"|\":\n",
    "            string += brackets\n",
    "            if brackets == \"(\":\n",
    "                brackets = \")\"\n",
    "            else:\n",
    "                brackets = \"(\"\n",
    "        else:\n",
    "            string += i\n",
    "    return string\n",
    " \n",
    "def numbers_from_pieces(text):\n",
    "    new_text = []\n",
    "    number = None\n",
    "    for i in text:\n",
    "        if number == None and i not in symbols.values():\n",
    "            number = int(i)\n",
    "        else:\n",
    "            if i in symbols.values():\n",
    "                new_text.append(str(number))\n",
    "                new_text.append(i)\n",
    "                number = None\n",
    "            else:\n",
    "                if number < int(i):\n",
    "                    number *= int(i)\n",
    "                else:\n",
    "                    number += int(i)\n",
    "    new_text.append(str(number))\n",
    "    return new_text\n",
    "\n",
    "    def solve(self, frase):\n",
    "        return solve(frase)\n",
    "virazhenie = input()\n",
    "virazhenie = virazhenie.split()\n",
    "print (solve(virazhenie))"
   ]
  },
  {
   "cell_type": "code",
   "execution_count": null,
   "id": "23a88842-fc6a-4f4e-981f-a4e1b9b24cf7",
   "metadata": {},
   "outputs": [],
   "source": []
  }
 ],
 "metadata": {
  "kernelspec": {
   "display_name": "Python 3 (ipykernel)",
   "language": "python",
   "name": "python3"
  },
  "language_info": {
   "codemirror_mode": {
    "name": "ipython",
    "version": 3
   },
   "file_extension": ".py",
   "mimetype": "text/x-python",
   "name": "python",
   "nbconvert_exporter": "python",
   "pygments_lexer": "ipython3",
   "version": "3.11.5"
  }
 },
 "nbformat": 4,
 "nbformat_minor": 5
}
